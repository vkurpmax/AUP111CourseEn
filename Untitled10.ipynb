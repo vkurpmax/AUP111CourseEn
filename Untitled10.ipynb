{
  "nbformat": 4,
  "nbformat_minor": 0,
  "metadata": {
    "colab": {
      "provenance": [],
      "include_colab_link": true
    },
    "kernelspec": {
      "name": "python3",
      "display_name": "Python 3"
    },
    "language_info": {
      "name": "python"
    }
  },
  "cells": [
    {
      "cell_type": "markdown",
      "metadata": {
        "id": "view-in-github",
        "colab_type": "text"
      },
      "source": [
        "<a href=\"https://colab.research.google.com/github/vkurpmax/AUP111CourseEn/blob/main/Untitled10.ipynb\" target=\"_parent\"><img src=\"https://colab.research.google.com/assets/colab-badge.svg\" alt=\"Open In Colab\"/></a>"
      ]
    },
    {
      "cell_type": "markdown",
      "source": [
        "**PYTHON REGEX**"
      ],
      "metadata": {
        "id": "4GXMYiytB4Dk"
      }
    },
    {
      "cell_type": "code",
      "execution_count": null,
      "metadata": {
        "colab": {
          "base_uri": "https://localhost:8080/"
        },
        "id": "OpdsWSHTBfb-",
        "outputId": "85135a06-bd2b-4368-a570-5746763cb19c"
      },
      "outputs": [
        {
          "output_type": "stream",
          "name": "stdout",
          "text": [
            "mobile number is not valid\n"
          ]
        }
      ],
      "source": [
        "import re\n",
        "\n",
        "number=\"198077665\"\n",
        "x = re.search(\"[1-9][0-9]{9}\",number)\n",
        "if x:\n",
        "  print(\"mobile number is valid\")\n",
        "else:\n",
        "  print(\"mobile number is not valid\")"
      ]
    },
    {
      "cell_type": "code",
      "source": [
        "import re\n",
        "\n",
        "text=\"abcd@yahoo.in\"\n",
        "x = re.search(\"[a-zA-Z0-9]+[@][a-zA-Z0-9]+[.][a-zA-Z0-9]\",text)\n",
        "if x:\n",
        "  print(\"email id is valid\")\n",
        "else:\n",
        "  print(\"email id is not valid\")"
      ],
      "metadata": {
        "colab": {
          "base_uri": "https://localhost:8080/"
        },
        "id": "lfkQ27GoDZq2",
        "outputId": "bd81c77e-a149-4b87-ec04-4c81a31439b5"
      },
      "execution_count": null,
      "outputs": [
        {
          "output_type": "stream",
          "name": "stdout",
          "text": [
            "email id is valid\n"
          ]
        }
      ]
    }
  ]
}